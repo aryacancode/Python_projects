{
  "nbformat": 4,
  "nbformat_minor": 0,
  "metadata": {
    "colab": {
      "provenance": [],
      "authorship_tag": "ABX9TyMdYbJJazCp4gSOn9MbzSVa",
      "include_colab_link": true
    },
    "kernelspec": {
      "name": "python3",
      "display_name": "Python 3"
    },
    "language_info": {
      "name": "python"
    }
  },
  "cells": [
    {
      "cell_type": "markdown",
      "metadata": {
        "id": "view-in-github",
        "colab_type": "text"
      },
      "source": [
        "<a href=\"https://colab.research.google.com/github/aryacancode/Python_projects/blob/main/Calculator.ipynb\" target=\"_parent\"><img src=\"https://colab.research.google.com/assets/colab-badge.svg\" alt=\"Open In Colab\"/></a>"
      ]
    },
    {
      "cell_type": "code",
      "execution_count": 9,
      "metadata": {
        "colab": {
          "base_uri": "https://localhost:8080/"
        },
        "id": "BavQqFgd4MF3",
        "outputId": "67234139-cf57-4018-f2af-f5468af0f8df"
      },
      "outputs": [
        {
          "output_type": "stream",
          "name": "stdout",
          "text": [
            "Welcome to the calculator\n",
            "Select an operation:\n",
            "1. add\n",
            "2. multiply\n",
            "3. divide\n",
            "4. subtract\n",
            "5. exit\n",
            "Enter your choice: 5\n",
            "Exiting the program\n"
          ]
        }
      ],
      "source": [
        "#A BASIC CALCULATOR\n",
        "\n",
        "print(\"Welcome to the calculator\")\n",
        "\n",
        "\"\"\" Defines the functions for the basic arithemetic operations \"\"\"\n",
        "def add(*args):\n",
        "  total = 0\n",
        "  for num in args:\n",
        "    total += num\n",
        "  return total\n",
        "\n",
        "def multiply(*args):\n",
        "  total = 1\n",
        "  for num in args:\n",
        "    total *= num\n",
        "  return total\n",
        "\n",
        "def divide(*args):\n",
        "  total = args[0]\n",
        "  for num in args[1:]:\n",
        "    total/=num\n",
        "  return total\n",
        "\n",
        "def subtract(*args):\n",
        "  total = args[0]\n",
        "  for num in args[1:]:\n",
        "    total-=num\n",
        "  return total\n",
        "\n",
        "# Getting user input\n",
        "def get_user_input():\n",
        "  \"\"\"\n",
        "    Returns a list of integers from the user input.\n",
        "    The map() function returns a map object, which is an iterator, and converts the object\n",
        "    to a list using the list() function.\n",
        "    The map() applies the int function to each element of the user input.\n",
        "  \"\"\"\n",
        "  user_input = input(\"Enter numbers seperated by spaces: \")\n",
        "  return list(map(int, user_input.split()))\n",
        "\n",
        "\n",
        "#Performing the arithemetic operations\n",
        "\"\"\" The infinite while loop ensures the program keeps runing until the user chooses to exit \"\"\"\n",
        "while True:\n",
        "\n",
        "  # selectiong what operation to perform from an operations dictionary\n",
        "  operations = {\n",
        "    1: 'add',\n",
        "    2: 'multiply',\n",
        "    3: 'divide',\n",
        "    4: 'subtract',\n",
        "    5: 'exit'\n",
        "  }\n",
        "\n",
        "  #Displaying the operations\n",
        "  print(\"Select an operation:\")\n",
        "  for key, value in operations.items():\n",
        "    print(f\"{key}. {value}\")\n",
        "\n",
        "  #Getting user's choice\n",
        "  choice = int(input(\"Enter your choice: \"))\n",
        "\n",
        "  #Checks for invalid choice\n",
        "  if choice in operations:\n",
        "    operation = operations[choice]\n",
        "    #performing selected operation\n",
        "    \"\"\" The *get_user_input() syntax is used to unpack the list of numbers into individual arguemnts \"\"\"\n",
        "    if operation == 'exit':\n",
        "      print(\"Exiting the program\")\n",
        "      break\n",
        "    elif operation == 'subtract':\n",
        "      print(subtract(*get_user_input()))\n",
        "    elif operation == 'divide':\n",
        "      print(divide(*get_user_input()))\n",
        "    elif operation == 'multiply':\n",
        "      print(multiply(*get_user_input()))\n",
        "    elif operation == 'add':\n",
        "      print(add(*get_user_input()))\n",
        "      print()\n",
        "  else:\n",
        "    print(\"Invalid choice\")\n"
      ]
    },
    {
      "cell_type": "code",
      "source": [],
      "metadata": {
        "id": "Uy4wPeYtOY0A"
      },
      "execution_count": null,
      "outputs": []
    }
  ]
}