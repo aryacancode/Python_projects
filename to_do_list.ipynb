{
  "nbformat": 4,
  "nbformat_minor": 0,
  "metadata": {
    "colab": {
      "provenance": [],
      "authorship_tag": "ABX9TyOcDH75FenwUiTj+JHXe6S/",
      "include_colab_link": true
    },
    "kernelspec": {
      "name": "python3",
      "display_name": "Python 3"
    },
    "language_info": {
      "name": "python"
    }
  },
  "cells": [
    {
      "cell_type": "markdown",
      "metadata": {
        "id": "view-in-github",
        "colab_type": "text"
      },
      "source": [
        "<a href=\"https://colab.research.google.com/github/aryacancode/Python_projects/blob/main/to_do_list.ipynb\" target=\"_parent\"><img src=\"https://colab.research.google.com/assets/colab-badge.svg\" alt=\"Open In Colab\"/></a>"
      ]
    },
    {
      "cell_type": "code",
      "execution_count": null,
      "metadata": {
        "colab": {
          "base_uri": "https://localhost:8080/"
        },
        "id": "BRmJgsVXO-vR",
        "outputId": "a0a30a2c-d9a4-4667-cc4f-93e7a08a924a"
      },
      "outputs": [
        {
          "output_type": "stream",
          "name": "stdout",
          "text": [
            "Welcome to the to-do list program!\n",
            "\n",
            "What would you like to do? (add/view/delete/quit): add\n",
            "Enter a task (or 'done' to finish): Review memorization'\n",
            "Enter a task (or 'done' to finish): Watch oshi no ko\n",
            "Enter a task (or 'done' to finish): Call Uncle ismail\n",
            "Enter a task (or 'done' to finish): Work on projects\n",
            "Enter a task (or 'done' to finish): Begin sql \n",
            "Enter a task (or 'done' to finish): done\n",
            "\n",
            "What would you like to do? (add/view/delete/quit): view\n",
            "To-Do List:\n",
            "1. Review memorization'\n",
            "2. Watch oshi no ko\n",
            "3. Call Uncle ismail\n",
            "4. Work on projects\n",
            "5. Begin sql \n",
            "\n",
            "What would you like to do? (add/view/delete/quit): delete\n",
            "Enter the number of the task to delete: 2\n",
            "Are you sure you want to delete this task: Watch oshi no ko? (y/n)n\n",
            "Enter the number of the task to delete: 2\n",
            "Are you sure you want to delete this task: Watch oshi no ko? (y/n)y\n",
            "Task deleted succesfully!\n",
            "\n",
            "What would you like to do? (add/view/delete/quit): view\n",
            "To-Do List:\n",
            "1. Review memorization'\n",
            "2. Call Uncle ismail\n",
            "3. Work on projects\n",
            "4. Begin sql \n",
            "\n",
            "What would you like to do? (add/view/delete/quit): quit\n",
            "Thank you for using the to-do list program!\n"
          ]
        }
      ],
      "source": [
        "def get_to_do_list():\n",
        "  \"\"\"\n",
        "  This function returns the to-do list.\n",
        "  \"\"\"\n",
        "  #defines an empty to-do-list\n",
        "  to_do_list = []\n",
        "\n",
        "  #while loop to keep the program running\n",
        "  while True:\n",
        "    task = input(\"Enter a task (or 'done' to finish): \")\n",
        "    if task == \"done\":\n",
        "      break\n",
        "    else:\n",
        "      to_do_list.append(task)\n",
        "  print()\n",
        "  return to_do_list\n",
        "\n",
        "\n",
        "def veiw_to_to_do_list(to_do_list):\n",
        "  \"\"\"\n",
        "  This function prints the to-do list.\n",
        "  \"\"\"\n",
        "  print(\"To-Do List:\")\n",
        "  for idx, task in enumerate(to_do_list, start=1):\n",
        "    print(f\"{idx}. {task}\")\n",
        "  print()\n",
        "\n",
        "\n",
        "def delete_task(to_do_list):\n",
        "  \"\"\"\n",
        "  This function deletes a task from the to-do list.\n",
        "  \"\"\"\n",
        "  task_no = int(input(\"Enter the number of the task to delete: \"))\n",
        "  if to_do_list[task_no-1] in to_do_list:\n",
        "    while True:\n",
        "      confirm = input(f\"Are you sure you want to delete this task: {to_do_list[task_no -1]}? (y/n)\")\n",
        "      if confirm == \"n\":\n",
        "        task_no = int(input(\"Enter the number of the task to delete: \"))\n",
        "        if task_no in to_do_list:\n",
        "          continue\n",
        "      else:\n",
        "        del to_do_list[task_no - 1]\n",
        "        print(\"Task deleted succesfully!\")\n",
        "        print()\n",
        "        break\n",
        "  else:\n",
        "    print(\"Invalid task number.\")\n",
        "\n",
        "\n",
        "\n",
        "#main program\n",
        "print(\"Welcome to the to-do list program!\\n\")\n",
        "\n",
        "while True:\n",
        "  actions = input(\"What would you like to do? (add/view/delete/quit): \")\n",
        "  if actions == \"add\":\n",
        "    to_do_list = get_to_do_list()\n",
        "  elif actions == \"view\":\n",
        "    veiw_to_to_do_list(to_do_list)\n",
        "  elif actions == \"delete\":\n",
        "    delete_task(to_do_list)\n",
        "  elif actions == \"quit\":\n",
        "    print(\"Thank you for using the to-do list program!\")\n",
        "    break"
      ]
    },
    {
      "cell_type": "code",
      "source": [],
      "metadata": {
        "id": "ncOaa3HqleDt"
      },
      "execution_count": null,
      "outputs": []
    }
  ]
}